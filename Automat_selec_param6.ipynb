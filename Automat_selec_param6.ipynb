{
 "cells": [
  {
   "cell_type": "code",
   "execution_count": null,
   "metadata": {},
   "outputs": [],
   "source": [
    "from sklearn.model_selection import GridSearchCV\n",
    "from sklearn.model_selection import train_test_split\n",
    "from sklearn.preprocessing import StandardScaler\n",
    "from sklearn. neural_network import MLPRegressor\n",
    "from sklearn.metrics import r2_score\n",
    "import pandas as pd\n"
   ]
  },
  {
   "cell_type": "code",
   "execution_count": null,
   "metadata": {},
   "outputs": [],
   "source": [
    "data=pd.read_csv('2008_limpia.csv')"
   ]
  },
  {
   "cell_type": "code",
   "execution_count": null,
   "metadata": {},
   "outputs": [],
   "source": [
    "df = data.dropna(subset=['AirTime', \"Distance\", \"TaxiIn\", \"TaxiOut\", \"DepDelay\"])\n",
    "df = df.sample(frac=1).head(1000)\n",
    "X = df[['AirTime', \"Distance\", \"TaxiIn\", \"TaxiOut\", \"DepDelay\", ]]\n",
    "Y = df['ArrDelay']\n",
    "\n",
    "X_train, X_test , Y_train, Y_test = train_test_split(X, Y, test_size=0.2, random_state=1)\n",
    "\n"
   ]
  },
  {
   "cell_type": "code",
   "execution_count": null,
   "metadata": {},
   "outputs": [],
   "source": [
    "parametros = {'hidden_layer_sizes': [(2,), (5,), (10,), (20,), (40,), (60,), ], \n",
    "\"solver\": ['lbfgs', 'sgd', 'adam'],\n",
    "\"learning_rate\": ['constant', 'invscaling', 'adaptive']}\n",
    "\n",
    "rn= MLPRegressor(warm_start = True, max_iter=10000, random_state=1, )\n",
    "clf = GridSearchCV(rn, parametros, cv=5, n_jobs=-1) # n_jobs=-1 para que use todos los procesadores (cpu)\n",
    "clf.fit(X_train, Y_train)"
   ]
  },
  {
   "cell_type": "code",
   "execution_count": null,
   "metadata": {},
   "outputs": [],
   "source": [
    "print(\"Mejor modelo: \", clf.best_estimator_)\n",
    "print(\"Mejor parámetros: \", clf.best_params_)\n",
    "print(\"Mejor score: \", clf.best_score_)\n",
    "print(\"Score de test: \", clf.score(X_test, Y_test))\n",
    "print(\"Score de train: \", clf.score(X_train, Y_train))\n",
    "print(\"Score de train: \", r2_score(Y_train, clf.predict(X_train)))\n",
    "print(\"Score de test: \", r2_score(Y_test, clf.predict(X_test)))\n"
   ]
  },
  {
   "cell_type": "code",
   "execution_count": null,
   "metadata": {},
   "outputs": [],
   "source": [
    "mejor=clf.best_estimator_\n",
    "mejor.fit(X_train, Y_train)\n",
    "print(\"Score de train: \", r2_score(Y_train, mejor.predict(X_train)))\n",
    "print(\"Score de test: \", r2_score(Y_test, mejor.predict(X_test)))"
   ]
  }
 ],
 "metadata": {
  "kernelspec": {
   "display_name": "Python 3.8.8 ('base')",
   "language": "python",
   "name": "python3"
  },
  "language_info": {
   "codemirror_mode": {
    "name": "ipython",
    "version": 3
   },
   "file_extension": ".py",
   "mimetype": "text/x-python",
   "name": "python",
   "nbconvert_exporter": "python",
   "pygments_lexer": "ipython3",
   "version": "3.8.8"
  },
  "orig_nbformat": 4,
  "vscode": {
   "interpreter": {
    "hash": "4017bc2c556dfe13f2e7ff574b278fff32ea60b8bfb25a7c3862efcf6026d457"
   }
  }
 },
 "nbformat": 4,
 "nbformat_minor": 2
}
