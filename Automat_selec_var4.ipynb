{
 "cells": [
  {
   "cell_type": "code",
   "execution_count": 1,
   "metadata": {},
   "outputs": [],
   "source": [
    "from sklearn.feature_selection import RFE\n",
    "from sklearn import linear_model\n",
    "import pandas as pd"
   ]
  },
  {
   "cell_type": "code",
   "execution_count": 2,
   "metadata": {},
   "outputs": [],
   "source": [
    "data=pd.read_csv(\"2008_limpia.csv\")"
   ]
  },
  {
   "cell_type": "code",
   "execution_count": 3,
   "metadata": {},
   "outputs": [],
   "source": [
    "df = data.dropna(subset=['AirTime', \"Distance\", \"TaxiIn\", \"TaxiOut\", \"DayOfWeek\", \"Month\", \"DayofMonth\", \"DepDelay\", \"WeatherDelay\", \"ArrDelay\"])\n",
    "df = df.sample(frac=1).head(1000)\n",
    "X = df[['AirTime', \"Distance\", \"TaxiIn\", \"TaxiOut\", \"DayOfWeek\", \"Month\", \"DayofMonth\", \"DepDelay\", \"WeatherDelay\"]]\n",
    "Y = df['ArrDelay']"
   ]
  },
  {
   "cell_type": "code",
   "execution_count": 4,
   "metadata": {},
   "outputs": [],
   "source": [
    "regr = linear_model.LinearRegression()"
   ]
  },
  {
   "cell_type": "code",
   "execution_count": 5,
   "metadata": {},
   "outputs": [
    {
     "data": {
      "text/plain": [
       "RFE(estimator=LinearRegression(), n_features_to_select=5)"
      ]
     },
     "execution_count": 5,
     "metadata": {},
     "output_type": "execute_result"
    }
   ],
   "source": [
    "selector = RFE(regr, n_features_to_select=5)\n",
    "selector.fit(X, Y)"
   ]
  },
  {
   "cell_type": "code",
   "execution_count": 6,
   "metadata": {},
   "outputs": [
    {
     "name": "stdout",
     "output_type": "stream",
     "text": [
      "[ True False  True  True  True False False  True False]\n",
      "[1 2 1 1 1 5 4 1 3]\n"
     ]
    }
   ],
   "source": [
    "print(selector.support_)\n",
    "print(selector.ranking_)\n",
    "#Date cuenta que hay 5 con 1s y 5 true porque representa los 5 atributos mas \n",
    "#importantes, donde la i-esima posicion es el atributo i-esimo mas importante de X"
   ]
  },
  {
   "cell_type": "code",
   "execution_count": 7,
   "metadata": {},
   "outputs": [
    {
     "data": {
      "text/plain": [
       "Index(['AirTime', 'TaxiIn', 'TaxiOut', 'DayOfWeek', 'DepDelay'], dtype='object')"
      ]
     },
     "execution_count": 7,
     "metadata": {},
     "output_type": "execute_result"
    }
   ],
   "source": [
    "X.columns[selector.support_]"
   ]
  },
  {
   "cell_type": "code",
   "execution_count": 8,
   "metadata": {},
   "outputs": [
    {
     "data": {
      "text/plain": [
       "Index(['DepDelay'], dtype='object')"
      ]
     },
     "execution_count": 8,
     "metadata": {},
     "output_type": "execute_result"
    }
   ],
   "source": [
    "selector = RFE(regr, n_features_to_select=1)\n",
    "selector.fit(X, Y)\n",
    "X.columns[selector.support_]"
   ]
  },
  {
   "cell_type": "code",
   "execution_count": 9,
   "metadata": {},
   "outputs": [
    {
     "name": "stdout",
     "output_type": "stream",
     "text": [
      "[5 6 2 3 4 9 8 1 7]\n"
     ]
    }
   ],
   "source": [
    "print(selector.ranking_) "
   ]
  },
  {
   "cell_type": "markdown",
   "metadata": {},
   "source": [
    "El más importante es DepDelay pues es el retraso de despegue"
   ]
  },
  {
   "cell_type": "code",
   "execution_count": null,
   "metadata": {},
   "outputs": [],
   "source": []
  }
 ],
 "metadata": {
  "kernelspec": {
   "display_name": "Python 3.8.8 ('base')",
   "language": "python",
   "name": "python3"
  },
  "language_info": {
   "codemirror_mode": {
    "name": "ipython",
    "version": 3
   },
   "file_extension": ".py",
   "mimetype": "text/x-python",
   "name": "python",
   "nbconvert_exporter": "python",
   "pygments_lexer": "ipython3",
   "version": "3.8.8"
  },
  "orig_nbformat": 4,
  "vscode": {
   "interpreter": {
    "hash": "4017bc2c556dfe13f2e7ff574b278fff32ea60b8bfb25a7c3862efcf6026d457"
   }
  }
 },
 "nbformat": 4,
 "nbformat_minor": 2
}
