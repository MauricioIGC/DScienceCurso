{
 "cells": [
  {
   "cell_type": "code",
   "execution_count": 1,
   "metadata": {},
   "outputs": [
    {
     "name": "stderr",
     "output_type": "stream",
     "text": [
      "c:\\Users\\mauiv\\anaconda3\\lib\\site-packages\\statsmodels\\tsa\\base\\tsa_model.py:7: FutureWarning: pandas.Int64Index is deprecated and will be removed from pandas in a future version. Use pandas.Index with the appropriate dtype instead.\n",
      "  from pandas import (to_datetime, Int64Index, DatetimeIndex, Period,\n",
      "c:\\Users\\mauiv\\anaconda3\\lib\\site-packages\\statsmodels\\tsa\\base\\tsa_model.py:7: FutureWarning: pandas.Float64Index is deprecated and will be removed from pandas in a future version. Use pandas.Index with the appropriate dtype instead.\n",
      "  from pandas import (to_datetime, Int64Index, DatetimeIndex, Period,\n"
     ]
    }
   ],
   "source": [
    "from sklearn import linear_model\n",
    "import statsmodels.api as sm\n",
    "import pandas as pd\n"
   ]
  },
  {
   "cell_type": "code",
   "execution_count": 4,
   "metadata": {},
   "outputs": [],
   "source": [
    "data = pd.read_csv('2008_limpia.csv')\n",
    "df = data.dropna(subset=['AirTime', \"Distance\", \"TaxiIn\", \"TaxiOut\", \"DayOfWeek\", \"Month\", \"DayofMonth\", \"DepDelay\", \"WeatherDelay\", \"ArrDelay\"])\n",
    "df = df.sample(frac=1).head(1000)"
   ]
  },
  {
   "cell_type": "code",
   "execution_count": 5,
   "metadata": {},
   "outputs": [],
   "source": [
    "X = df[['AirTime', \"Distance\", \"TaxiIn\", \"TaxiOut\", \"DayOfWeek\", \"Month\", \"DayofMonth\", \"DepDelay\", \"WeatherDelay\"]]\n",
    "Y = df['ArrDelay']\n",
    "\n",
    "regr = linear_model.LinearRegression()\n",
    "regr.fit(X, Y)\n",
    "prediccion = regr.predict(X)"
   ]
  },
  {
   "cell_type": "code",
   "execution_count": 6,
   "metadata": {},
   "outputs": [
    {
     "name": "stderr",
     "output_type": "stream",
     "text": [
      "c:\\Users\\mauiv\\anaconda3\\lib\\site-packages\\statsmodels\\tsa\\tsatools.py:142: FutureWarning: In a future version of pandas all arguments of concat except for the argument 'objs' will be keyword-only.\n",
      "  x = pd.concat(x[::order], 1)\n"
     ]
    },
    {
     "name": "stdout",
     "output_type": "stream",
     "text": [
      "                            OLS Regression Results                            \n",
      "==============================================================================\n",
      "Dep. Variable:               ArrDelay   R-squared:                       0.961\n",
      "Model:                            OLS   Adj. R-squared:                  0.961\n",
      "Method:                 Least Squares   F-statistic:                     2723.\n",
      "Date:                Thu, 14 Jul 2022   Prob (F-statistic):               0.00\n",
      "Time:                        14:41:04   Log-Likelihood:                -3740.3\n",
      "No. Observations:                1000   AIC:                             7501.\n",
      "Df Residuals:                     990   BIC:                             7550.\n",
      "Df Model:                           9                                         \n",
      "Covariance Type:            nonrobust                                         \n",
      "================================================================================\n",
      "                   coef    std err          t      P>|t|      [0.025      0.975]\n",
      "--------------------------------------------------------------------------------\n",
      "const          -23.6035      1.381    -17.089      0.000     -26.314     -20.893\n",
      "AirTime          0.4837      0.022     21.548      0.000       0.440       0.528\n",
      "Distance        -0.0589      0.003    -20.831      0.000      -0.064      -0.053\n",
      "TaxiIn           0.7612      0.048     15.807      0.000       0.667       0.856\n",
      "TaxiOut          0.8367      0.015     55.266      0.000       0.807       0.866\n",
      "DayOfWeek        0.0716      0.165      0.433      0.665      -0.253       0.396\n",
      "Month           -0.1022      0.094     -1.091      0.275      -0.286       0.082\n",
      "DayofMonth      -0.0290      0.038     -0.767      0.443      -0.103       0.045\n",
      "DepDelay         0.9576      0.007    146.565      0.000       0.945       0.970\n",
      "WeatherDelay    -0.0320      0.020     -1.636      0.102      -0.070       0.006\n",
      "==============================================================================\n",
      "Omnibus:                       56.678   Durbin-Watson:                   2.026\n",
      "Prob(Omnibus):                  0.000   Jarque-Bera (JB):              141.602\n",
      "Skew:                          -0.294   Prob(JB):                     1.78e-31\n",
      "Kurtosis:                       4.747   Cond. No.                     4.14e+03\n",
      "==============================================================================\n",
      "\n",
      "Notes:\n",
      "[1] Standard Errors assume that the covariance matrix of the errors is correctly specified.\n",
      "[2] The condition number is large, 4.14e+03. This might indicate that there are\n",
      "strong multicollinearity or other numerical problems.\n"
     ]
    }
   ],
   "source": [
    "X2 = sm.add_constant(X)\n",
    "est = sm.OLS(Y, X2)\n",
    "est2 = est.fit()\n",
    "print(est2.summary())"
   ]
  },
  {
   "cell_type": "code",
   "execution_count": 8,
   "metadata": {},
   "outputs": [],
   "source": [
    "X = df[['AirTime', \"Distance\", \"TaxiIn\", \"TaxiOut\", \"Month\", \"DayofMonth\", \"DepDelay\", \"WeatherDelay\"]]\n",
    "Y = df['ArrDelay']\n",
    "\n",
    "regr = linear_model.LinearRegression()\n",
    "regr.fit(X, Y)\n",
    "prediccion = regr.predict(X)"
   ]
  },
  {
   "cell_type": "code",
   "execution_count": 9,
   "metadata": {},
   "outputs": [
    {
     "name": "stdout",
     "output_type": "stream",
     "text": [
      "                            OLS Regression Results                            \n",
      "==============================================================================\n",
      "Dep. Variable:               ArrDelay   R-squared:                       0.961\n",
      "Model:                            OLS   Adj. R-squared:                  0.961\n",
      "Method:                 Least Squares   F-statistic:                     3066.\n",
      "Date:                Thu, 14 Jul 2022   Prob (F-statistic):               0.00\n",
      "Time:                        14:50:47   Log-Likelihood:                -3740.4\n",
      "No. Observations:                1000   AIC:                             7499.\n",
      "Df Residuals:                     991   BIC:                             7543.\n",
      "Df Model:                           8                                         \n",
      "Covariance Type:            nonrobust                                         \n",
      "================================================================================\n",
      "                   coef    std err          t      P>|t|      [0.025      0.975]\n",
      "--------------------------------------------------------------------------------\n",
      "const          -23.3239      1.221    -19.110      0.000     -25.719     -20.929\n",
      "AirTime          0.4837      0.022     21.556      0.000       0.440       0.528\n",
      "Distance        -0.0589      0.003    -20.841      0.000      -0.064      -0.053\n",
      "TaxiIn           0.7609      0.048     15.810      0.000       0.666       0.855\n",
      "TaxiOut          0.8367      0.015     55.287      0.000       0.807       0.866\n",
      "Month           -0.1021      0.094     -1.090      0.276      -0.286       0.082\n",
      "DayofMonth      -0.0282      0.038     -0.749      0.454      -0.102       0.046\n",
      "DepDelay         0.9576      0.007    146.625      0.000       0.945       0.970\n",
      "WeatherDelay    -0.0315      0.020     -1.616      0.106      -0.070       0.007\n",
      "==============================================================================\n",
      "Omnibus:                       56.826   Durbin-Watson:                   2.022\n",
      "Prob(Omnibus):                  0.000   Jarque-Bera (JB):              143.627\n",
      "Skew:                          -0.291   Prob(JB):                     6.48e-32\n",
      "Kurtosis:                       4.763   Cond. No.                     3.66e+03\n",
      "==============================================================================\n",
      "\n",
      "Notes:\n",
      "[1] Standard Errors assume that the covariance matrix of the errors is correctly specified.\n",
      "[2] The condition number is large, 3.66e+03. This might indicate that there are\n",
      "strong multicollinearity or other numerical problems.\n"
     ]
    },
    {
     "name": "stderr",
     "output_type": "stream",
     "text": [
      "c:\\Users\\mauiv\\anaconda3\\lib\\site-packages\\statsmodels\\tsa\\tsatools.py:142: FutureWarning: In a future version of pandas all arguments of concat except for the argument 'objs' will be keyword-only.\n",
      "  x = pd.concat(x[::order], 1)\n"
     ]
    }
   ],
   "source": [
    "X2 = sm.add_constant(X)\n",
    "est = sm.OLS(Y, X2)\n",
    "est2 = est.fit()\n",
    "print(est2.summary())"
   ]
  },
  {
   "cell_type": "markdown",
   "metadata": {},
   "source": [
    "Lo que se tendría que hacer sería quitar las variables que casi no ofrecen información los que su P>t (Proba de que no sirva) sea mayor a .05,  sin embargo en este caso hay que notar que este poco aporte se debe a que los días de la semana se escribieron 1,2,3,4,.. siendo que se debieron haber esrito como dummies ie 0 si no pasó el día 1, 1 si pasó ese día"
   ]
  },
  {
   "cell_type": "code",
   "execution_count": null,
   "metadata": {},
   "outputs": [],
   "source": []
  }
 ],
 "metadata": {
  "kernelspec": {
   "display_name": "Python 3.8.8 ('base')",
   "language": "python",
   "name": "python3"
  },
  "language_info": {
   "codemirror_mode": {
    "name": "ipython",
    "version": 3
   },
   "file_extension": ".py",
   "mimetype": "text/x-python",
   "name": "python",
   "nbconvert_exporter": "python",
   "pygments_lexer": "ipython3",
   "version": "3.8.8"
  },
  "orig_nbformat": 4,
  "vscode": {
   "interpreter": {
    "hash": "4017bc2c556dfe13f2e7ff574b278fff32ea60b8bfb25a7c3862efcf6026d457"
   }
  }
 },
 "nbformat": 4,
 "nbformat_minor": 2
}
